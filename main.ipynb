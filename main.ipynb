{
 "cells": [
  {
   "cell_type": "code",
   "execution_count": 2,
   "id": "9641b9a2-e9ed-4019-9d7e-954c8cde24be",
   "metadata": {},
   "outputs": [],
   "source": [
    "import xlwings as xw\n",
    "import random\n",
    "import time\n",
    "import keyboard"
   ]
  },
  {
   "cell_type": "code",
   "execution_count": null,
   "id": "1c308aff-2e75-43d5-9f31-83c2ef772ee4",
   "metadata": {},
   "outputs": [],
   "source": [
    "wb = xw.Book()\n",
    "sheet = wb.sheets.active\n",
    "ROWS, COLS = 20, 10"
   ]
  },
  {
   "cell_type": "code",
   "execution_count": 6,
   "id": "826fe8ec-1bf2-4a83-9c16-75dc0a3708b1",
   "metadata": {},
   "outputs": [],
   "source": [
    "COLOR_MAP = {\n",
    "    0: (255, 255, 255),\n",
    "    1: (255, 0, 0),\n",
    "    2: (0, 0, 255)\n",
    "}"
   ]
  },
  {
   "cell_type": "code",
   "execution_count": 7,
   "id": "3f6be478",
   "metadata": {},
   "outputs": [],
   "source": [
    "SHAPES = {\n",
    "    \"I\": [(0, 0), (0, 1), (0, 2), (0, 3)],\n",
    "    \"O\": [(0, 0), (0, 1), (1, 0), (1, 1)],\n",
    "    \"T\": [(0, 1), (1, 0), (1, 1), (1, 2)],\n",
    "    \"L\": [(0, 0), (1, 0), (2, 0), (2, 1)]\n",
    "}"
   ]
  },
  {
   "cell_type": "code",
   "execution_count": 8,
   "id": "7f37bd06-a2bf-41ab-bda8-34f3e334732b",
   "metadata": {},
   "outputs": [],
   "source": [
    "current_piece = random.choice(list(SHAPES.keys()))\n",
    "current_coordinates = SHAPES[current_piece]"
   ]
  },
  {
   "cell_type": "code",
   "execution_count": 9,
   "id": "95892a1c-5d83-41d3-bb93-b237a88aa2b7",
   "metadata": {},
   "outputs": [],
   "source": [
    "for i in range(ROWS):\n",
    "    for j in range(COLS):\n",
    "        value = sheet.range(i + 1, j + 1).value\n",
    "        color = COLOR_MAP.get(value)\n",
    "        sheet.range(i + 1, j + 1).color = color"
   ]
  },
  {
   "cell_type": "code",
   "execution_count": 10,
   "id": "11e480a5-eba0-4956-a903-0a805701699a",
   "metadata": {},
   "outputs": [],
   "source": [
    "for r,c in current_coordinates:\n",
    "    sheet.range(r + 1, c + 4).value = 1"
   ]
  },
  {
   "cell_type": "code",
   "execution_count": 11,
   "id": "f885a10e-d2e9-42d5-8a51-08c298a29105",
   "metadata": {},
   "outputs": [],
   "source": [
    "def rotate():\n",
    "    global current_coordinates\n",
    "\n",
    "    pivot = current_coordinates[0]\n",
    "    pivot_r, pivot_c = pivot\n",
    "\n",
    "    new_coordinates = [(pivot_r + (c - pivot_c), pivot_c - (r - pivot_r)) for r, c in current_coordinates]\n",
    "\n",
    "    for r, c in new_coordinates:\n",
    "        if r < 0 or r >= ROWS or c < 0 or c >= COLS or sheet.range(r + 1, c + 4).value == 1:\n",
    "            return\n",
    "\n",
    "    for r, c in current_coordinates:\n",
    "        sheet.range(r + 1, c + 4).value = 0\n",
    "\n",
    "    for r, c in new_coordinates:\n",
    "        sheet.range(r + 1, c + 4).value = 1\n",
    "\n",
    "    current_coordinates = new_coordinates"
   ]
  },
  {
   "cell_type": "code",
   "execution_count": 12,
   "id": "bfe5f0d1-6ae0-4252-92d1-03da6d039cff",
   "metadata": {},
   "outputs": [],
   "source": [
    "def clear_full_rows():\n",
    "    for r in range(ROWS):\n",
    "        if all(sheet.range(r + 1, 4, r + 1, 4 + COLS - 1).value):\n",
    "            sheet.range(r + 1, 4, r + 1, 4 + COLS - 1).value = [0] * COLS\n",
    "            for move_r in range(r, 0, -1):\n",
    "                above_row = sheet.range(move_r, 4, move_r, 4 + COLS - 1).value\n",
    "                sheet.range(move_r + 1, 4, move_r + 1, 4 + COLS - 1).value = above_row\n",
    "            sheet.range(1, 4, 1, 4 + COLS - 1).value = [0] * COLS"
   ]
  },
  {
   "cell_type": "code",
   "execution_count": 13,
   "id": "1ee61a71-11ad-4d79-9256-a1e645a0949a",
   "metadata": {},
   "outputs": [],
   "source": [
    "def place_piece():\n",
    "    for r, c in current_coordinates:\n",
    "        sheet.range(r + 1, c + 4).value = 1\n",
    "    clear_full_rows()"
   ]
  },
  {
   "cell_type": "code",
   "execution_count": 14,
   "id": "7c3f12c2-08b9-4ab8-8b3c-4d3a512d87f3",
   "metadata": {},
   "outputs": [],
   "source": [
    "def spawn_new_piece():\n",
    "    global current_piece, current_coordinates\n",
    "\n",
    "    for r, c in current_coordinates:\n",
    "        sheet.range(r + 1, c + 4).value = 0\n",
    "\n",
    "    current_piece = random.choice(list(SHAPES.keys()))\n",
    "    current_coordinates = SHAPES[current_piece]\n",
    "\n",
    "    for r, c in current_coordinates:\n",
    "        if sheet.range(r + 1, c + 4).value == 1:\n",
    "            print(\"GAME OVER!\")\n",
    "            exit()\n",
    "\n",
    "    for r, c in current_coordinates:\n",
    "        sheet.range(r + 1, c + 4).value = 1"
   ]
  },
  {
   "cell_type": "code",
   "execution_count": 15,
   "id": "e49279e4-1066-4302-83dd-28114539d484",
   "metadata": {},
   "outputs": [],
   "source": [
    "def clear_full_rows():\n",
    "    for r in range(ROWS):\n",
    "        if all(sheet.range(r + 1, 4, r + 1, 4 + COLS - 1).value):\n",
    "            sheet.range(r + 1, 4, r + 1, 4 + COLS - 1).value = [0] * COLS\n",
    "\n",
    "            for move_r in range(r, 0, -1):\n",
    "                above_row = sheet.range(move_r, 4, move_r, 4 + COLS - 1).value\n",
    "                sheet.range(move_r + 1, 4, move_r + 1, 4 + COLS - 1).value = above_row\n",
    "            \n",
    "            sheet.range(1, 4, 1, 4 + COLS - 1).value = [0] * COLS"
   ]
  },
  {
   "cell_type": "code",
   "execution_count": 16,
   "id": "62045471-8c28-41af-8f96-802aa09616d1",
   "metadata": {},
   "outputs": [
    {
     "name": "stderr",
     "output_type": "stream",
     "text": [
      "Exception in thread Thread-4 (process):\n",
      "Traceback (most recent call last):\n",
      "  File \"C:\\Python312\\Lib\\threading.py\", line 1075, in _bootstrap_inner\n",
      "    self.run()\n",
      "  File \"C:\\Users\\LENOVO\\Desktop\\personal_projects\\Tetris_in_excel\\main\\Lib\\site-packages\\ipykernel\\ipkernel.py\", line 766, in run_closure\n",
      "    _threading_Thread_run(self)\n",
      "  File \"C:\\Python312\\Lib\\threading.py\", line 1012, in run\n",
      "    self._target(*self._args, **self._kwargs)\n",
      "  File \"C:\\Users\\LENOVO\\Desktop\\personal_projects\\Tetris_in_excel\\main\\Lib\\site-packages\\keyboard\\_generic.py\", line 58, in process\n",
      "    if self.pre_process_event(event):\n",
      "       ^^^^^^^^^^^^^^^^^^^^^^^^^^^^^\n",
      "  File \"C:\\Users\\LENOVO\\Desktop\\personal_projects\\Tetris_in_excel\\main\\Lib\\site-packages\\keyboard\\__init__.py\", line 218, in pre_process_event\n",
      "    callback(event)\n",
      "  File \"C:\\Users\\LENOVO\\Desktop\\personal_projects\\Tetris_in_excel\\main\\Lib\\site-packages\\keyboard\\__init__.py\", line 649, in <lambda>\n",
      "    handler = lambda e: (event_type == KEY_DOWN and e.event_type == KEY_UP and e.scan_code in _logically_pressed_keys) or (event_type == e.event_type and callback())\n",
      "                                                                                                                                                          ^^^^^^^^^^\n",
      "  File \"C:\\Users\\LENOVO\\AppData\\Local\\Temp\\ipykernel_7552\\1959144185.py\", line 39, in right\n",
      "  File \"C:\\Users\\LENOVO\\Desktop\\personal_projects\\Tetris_in_excel\\main\\Lib\\site-packages\\xlwings\\main.py\", line 1460, in range\n",
      "    return Range(impl=self.impl.range(cell1, cell2))\n",
      "                      ^^^^^^^^^^^^^^^^^^^^^^^^^^^^^\n",
      "  File \"C:\\Users\\LENOVO\\Desktop\\personal_projects\\Tetris_in_excel\\main\\Lib\\site-packages\\xlwings\\_xlwindows.py\", line 1022, in range\n",
      "    xl1 = self.xl.Cells(arg1, arg2)\n",
      "          ^^^^^^^^^^^^^\n",
      "  File \"C:\\Users\\LENOVO\\Desktop\\personal_projects\\Tetris_in_excel\\main\\Lib\\site-packages\\xlwings\\_xlwindows.py\", line 199, in __getattr__\n",
      "    v = getattr(self._inner, item)\n",
      "        ^^^^^^^^^^^^^^^^^^^^^^^^^^\n",
      "  File \"C:\\Users\\LENOVO\\Desktop\\personal_projects\\Tetris_in_excel\\main\\Lib\\site-packages\\win32com\\client\\__init__.py\", line 558, in __getattr__\n",
      "    return self._ApplyTypes_(*args)\n",
      "           ^^^^^^^^^^^^^^^^^^^^^^^^\n",
      "  File \"C:\\Users\\LENOVO\\Desktop\\personal_projects\\Tetris_in_excel\\main\\Lib\\site-packages\\win32com\\client\\__init__.py\", line 549, in _ApplyTypes_\n",
      "    self._oleobj_.InvokeTypes(dispid, 0, wFlags, retType, argTypes, *args),\n",
      "    ^^^^^^^^^^^^^^^^^^^^^^^^^^^^^^^^^^^^^^^^^^^^^^^^^^^^^^^^^^^^^^^^^^^^^^\n",
      "pywintypes.com_error: (-2147221008, 'CoInitialize has not been called.', None, None)\n"
     ]
    },
    {
     "ename": "TypeError",
     "evalue": "Sheet.range() takes from 2 to 3 positional arguments but 5 were given",
     "output_type": "error",
     "traceback": [
      "\u001b[1;31m---------------------------------------------------------------------------\u001b[0m",
      "\u001b[1;31mTypeError\u001b[0m                                 Traceback (most recent call last)",
      "Cell \u001b[1;32mIn[16], line 56\u001b[0m\n\u001b[0;32m     53\u001b[0m keyboard\u001b[38;5;241m.\u001b[39madd_hotkey(\u001b[38;5;124m'\u001b[39m\u001b[38;5;124mdown\u001b[39m\u001b[38;5;124m'\u001b[39m, down)\n\u001b[0;32m     54\u001b[0m keyboard\u001b[38;5;241m.\u001b[39madd_hotkey(\u001b[38;5;124m'\u001b[39m\u001b[38;5;124mup\u001b[39m\u001b[38;5;124m'\u001b[39m, rotate)\n\u001b[1;32m---> 56\u001b[0m \u001b[38;5;28;01mwhile\u001b[39;00m \u001b[43mdown\u001b[49m\u001b[43m(\u001b[49m\u001b[43m)\u001b[49m:\n\u001b[0;32m     57\u001b[0m     time\u001b[38;5;241m.\u001b[39msleep(\u001b[38;5;241m0.5\u001b[39m)\n",
      "Cell \u001b[1;32mIn[16], line 6\u001b[0m, in \u001b[0;36mdown\u001b[1;34m()\u001b[0m\n\u001b[0;32m      4\u001b[0m \u001b[38;5;28;01mfor\u001b[39;00m r, c \u001b[38;5;129;01min\u001b[39;00m current_coordinates:\n\u001b[0;32m      5\u001b[0m     \u001b[38;5;28;01mif\u001b[39;00m r \u001b[38;5;241m+\u001b[39m \u001b[38;5;241m1\u001b[39m \u001b[38;5;241m>\u001b[39m\u001b[38;5;241m=\u001b[39m ROWS \u001b[38;5;129;01mor\u001b[39;00m sheet\u001b[38;5;241m.\u001b[39mrange(r \u001b[38;5;241m+\u001b[39m \u001b[38;5;241m2\u001b[39m, c \u001b[38;5;241m+\u001b[39m \u001b[38;5;241m4\u001b[39m)\u001b[38;5;241m.\u001b[39mvalue \u001b[38;5;241m==\u001b[39m \u001b[38;5;241m1\u001b[39m:\n\u001b[1;32m----> 6\u001b[0m         \u001b[43mplace_piece\u001b[49m\u001b[43m(\u001b[49m\u001b[43m)\u001b[49m\n\u001b[0;32m      7\u001b[0m         spawn_new_piece()\n\u001b[0;32m      8\u001b[0m         \u001b[38;5;28;01mreturn\u001b[39;00m \u001b[38;5;28;01mFalse\u001b[39;00m\n",
      "Cell \u001b[1;32mIn[13], line 4\u001b[0m, in \u001b[0;36mplace_piece\u001b[1;34m()\u001b[0m\n\u001b[0;32m      2\u001b[0m \u001b[38;5;28;01mfor\u001b[39;00m r, c \u001b[38;5;129;01min\u001b[39;00m current_coordinates:\n\u001b[0;32m      3\u001b[0m     sheet\u001b[38;5;241m.\u001b[39mrange(r \u001b[38;5;241m+\u001b[39m \u001b[38;5;241m1\u001b[39m, c \u001b[38;5;241m+\u001b[39m \u001b[38;5;241m4\u001b[39m)\u001b[38;5;241m.\u001b[39mvalue \u001b[38;5;241m=\u001b[39m \u001b[38;5;241m1\u001b[39m\n\u001b[1;32m----> 4\u001b[0m \u001b[43mclear_full_rows\u001b[49m\u001b[43m(\u001b[49m\u001b[43m)\u001b[49m\n",
      "Cell \u001b[1;32mIn[15], line 3\u001b[0m, in \u001b[0;36mclear_full_rows\u001b[1;34m()\u001b[0m\n\u001b[0;32m      1\u001b[0m \u001b[38;5;28;01mdef\u001b[39;00m\u001b[38;5;250m \u001b[39m\u001b[38;5;21mclear_full_rows\u001b[39m():\n\u001b[0;32m      2\u001b[0m     \u001b[38;5;28;01mfor\u001b[39;00m r \u001b[38;5;129;01min\u001b[39;00m \u001b[38;5;28mrange\u001b[39m(ROWS):\n\u001b[1;32m----> 3\u001b[0m         \u001b[38;5;28;01mif\u001b[39;00m \u001b[38;5;28mall\u001b[39m(\u001b[43msheet\u001b[49m\u001b[38;5;241;43m.\u001b[39;49m\u001b[43mrange\u001b[49m\u001b[43m(\u001b[49m\u001b[43mr\u001b[49m\u001b[43m \u001b[49m\u001b[38;5;241;43m+\u001b[39;49m\u001b[43m \u001b[49m\u001b[38;5;241;43m1\u001b[39;49m\u001b[43m,\u001b[49m\u001b[43m \u001b[49m\u001b[38;5;241;43m4\u001b[39;49m\u001b[43m,\u001b[49m\u001b[43m \u001b[49m\u001b[43mr\u001b[49m\u001b[43m \u001b[49m\u001b[38;5;241;43m+\u001b[39;49m\u001b[43m \u001b[49m\u001b[38;5;241;43m1\u001b[39;49m\u001b[43m,\u001b[49m\u001b[43m \u001b[49m\u001b[38;5;241;43m4\u001b[39;49m\u001b[43m \u001b[49m\u001b[38;5;241;43m+\u001b[39;49m\u001b[43m \u001b[49m\u001b[43mCOLS\u001b[49m\u001b[43m \u001b[49m\u001b[38;5;241;43m-\u001b[39;49m\u001b[43m \u001b[49m\u001b[38;5;241;43m1\u001b[39;49m\u001b[43m)\u001b[49m\u001b[38;5;241m.\u001b[39mvalue):\n\u001b[0;32m      4\u001b[0m             sheet\u001b[38;5;241m.\u001b[39mrange(r \u001b[38;5;241m+\u001b[39m \u001b[38;5;241m1\u001b[39m, \u001b[38;5;241m4\u001b[39m, r \u001b[38;5;241m+\u001b[39m \u001b[38;5;241m1\u001b[39m, \u001b[38;5;241m4\u001b[39m \u001b[38;5;241m+\u001b[39m COLS \u001b[38;5;241m-\u001b[39m \u001b[38;5;241m1\u001b[39m)\u001b[38;5;241m.\u001b[39mvalue \u001b[38;5;241m=\u001b[39m [\u001b[38;5;241m0\u001b[39m] \u001b[38;5;241m*\u001b[39m COLS\n\u001b[0;32m      6\u001b[0m             \u001b[38;5;28;01mfor\u001b[39;00m move_r \u001b[38;5;129;01min\u001b[39;00m \u001b[38;5;28mrange\u001b[39m(r, \u001b[38;5;241m0\u001b[39m, \u001b[38;5;241m-\u001b[39m\u001b[38;5;241m1\u001b[39m):\n",
      "\u001b[1;31mTypeError\u001b[0m: Sheet.range() takes from 2 to 3 positional arguments but 5 were given"
     ]
    }
   ],
   "source": [
    "def down():\n",
    "    global current_coordinates, current_piece\n",
    "\n",
    "    for r, c in current_coordinates:\n",
    "        if r + 1 >= ROWS or sheet.range(r + 2, c + 4).value == 1:\n",
    "            place_piece()\n",
    "            spawn_new_piece()\n",
    "            return False\n",
    "\n",
    "    for r, c in current_coordinates:\n",
    "        sheet.range(r + 1, c + 4).value = 0\n",
    "\n",
    "    new_coordinates = [(r + 1, c) for r, c in current_coordinates]\n",
    "    for r, c in new_coordinates:\n",
    "        sheet.range(r + 1, c + 4).value = 1\n",
    "\n",
    "    current_coordinates = new_coordinates\n",
    "    return True\n",
    "\n",
    "def left():\n",
    "    global current_coordinates\n",
    "    for r, c in current_coordinates:\n",
    "        if c - 1 < 0 or sheet.range(r + 1, c + 3).value == 1:\n",
    "            return\n",
    "\n",
    "    for r, c in current_coordinates:\n",
    "        sheet.range(r + 1, c + 4).value = 0\n",
    "\n",
    "    new_coordinates = [(r, c - 1) for r, c in current_coordinates]\n",
    "    for r, c in new_coordinates:\n",
    "        sheet.range(r + 1, c + 4).value = 1\n",
    "\n",
    "    current_coordinates = new_coordinates\n",
    "\n",
    "def right():\n",
    "    global current_coordinates\n",
    "\n",
    "    for r, c in current_coordinates:\n",
    "        if c + 1 >= COLS or sheet.range(r + 1, c + 5).value == 1:\n",
    "            return\n",
    "\n",
    "    for r, c in current_coordinates:\n",
    "        sheet.range(r + 1, c + 4).value = 0\n",
    "\n",
    "    new_coordinates = [(r, c + 1) for r, c in current_coordinates]\n",
    "    for r, c in new_coordinates:\n",
    "        sheet.range(r + 1, c + 4).value = 1\n",
    "\n",
    "    current_coordinates = new_coordinates\n",
    "\n",
    "keyboard.add_hotkey('left', left)\n",
    "keyboard.add_hotkey('right', right)\n",
    "keyboard.add_hotkey('down', down)\n",
    "keyboard.add_hotkey('up', rotate)\n",
    "\n",
    "while down():\n",
    "    time.sleep(0.5)"
   ]
  },
  {
   "cell_type": "code",
   "execution_count": null,
   "id": "92c76909-8f9d-4181-82a7-74c0fc857307",
   "metadata": {},
   "outputs": [],
   "source": []
  }
 ],
 "metadata": {
  "kernelspec": {
   "display_name": "Python 3 (ipykernel)",
   "language": "python",
   "name": "python3"
  },
  "language_info": {
   "codemirror_mode": {
    "name": "ipython",
    "version": 3
   },
   "file_extension": ".py",
   "mimetype": "text/x-python",
   "name": "python",
   "nbconvert_exporter": "python",
   "pygments_lexer": "ipython3",
   "version": "3.12.6"
  }
 },
 "nbformat": 4,
 "nbformat_minor": 5
}
